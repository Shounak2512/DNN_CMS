{
 "cells": [
  {
   "cell_type": "code",
   "execution_count": 1,
   "metadata": {},
   "outputs": [],
   "source": [
    "%matplotlib inline\n",
    "\n",
    "import numpy as np\n",
    "import pandas as pd\n",
    "import matplotlib.pyplot as plt\n",
    "import uproot\n",
    "import tqdm\n",
    "import seaborn as sns"
   ]
  },
  {
   "cell_type": "code",
   "execution_count": 2,
   "metadata": {},
   "outputs": [
    {
     "name": "stderr",
     "output_type": "stream",
     "text": [
      "100%|██████████| 9/9 [00:02<00:00,  3.90it/s]\n"
     ]
    }
   ],
   "source": [
    "df_list=[]\n",
    "for filenumber in tqdm.tqdm(range(1,10)):\n",
    "# Open the .root file\n",
    "    filePath=f'../36_files/JetNtuple_RunIISummer16_13TeV_MC_{filenumber}.root'\n",
    "    file = uproot.open(filePath)\n",
    "# Access the tree structu\n",
    "    tree = file['AK4jets/jetTree']\n",
    "# Define the columns you want to read\n",
    "    columns = ['isPhysG', 'isPhysUDS','QG_mult','QG_ptD','QG_axis2','jetPt','jetEta','jetQGl','jetMass','jetGirth','jetArea','jetChargedHadronMult','jetNeutralHadronMult','jetChargedMult','jetNeutralMult']\n",
    "    df=tree.arrays(columns, library='pd')\n",
    "    df_list.append(df)\n",
    "\n",
    "df=pd.concat(df_list,ignore_index='true')"
   ]
  },
  {
   "cell_type": "code",
   "execution_count": 13,
   "metadata": {},
   "outputs": [],
   "source": [
    "# First remove all the other types of jets from the data except the gluon and the light quark (UDS) jets\n",
    "df = df[(df.isPhysG==1) | (df.isPhysUDS==1)].reset_index()\n",
    "# We keep only jets that either stem from QCD or UDS.\n",
    "#selecting only a range of pt \n",
    "df_pt_ranged=df[(df.jetPt>30) & (df.jetPt<600)]\n",
    "df_selected=df_pt_ranged"
   ]
  },
  {
   "cell_type": "code",
   "execution_count": 14,
   "metadata": {},
   "outputs": [
    {
     "name": "stdout",
     "output_type": "stream",
     "text": [
      "5\n"
     ]
    }
   ],
   "source": [
    "from sklearn.model_selection import train_test_split\n",
    "\n",
    "train, test = train_test_split(df_selected, test_size=0.2, random_state=42)\n",
    "\n",
    "train_y = train.isPhysUDS\n",
    "test_y = test.isPhysUDS\n",
    "input_features = input_features = ['QG_mult','QG_ptD','QG_axis2','jetGirth','jetChargedHadronMult']\n",
    "train_x=train[input_features]\n",
    "test_x=test[input_features]\n",
    "print(len(input_features))"
   ]
  },
  {
   "cell_type": "code",
   "execution_count": 15,
   "metadata": {},
   "outputs": [],
   "source": [
    "import pandas as pd\n",
    "import tensorflow as tf\n",
    "from tensorflow import keras\n",
    "from tensorflow.keras import layers\n",
    "from kerastuner.tuners import Hyperband"
   ]
  },
  {
   "cell_type": "code",
   "execution_count": null,
   "metadata": {},
   "outputs": [
    {
     "name": "stdout",
     "output_type": "stream",
     "text": [
      "Trial 10 Complete [00h 02m 11s]\n",
      "val_accuracy: 0.7704956531524658\n",
      "\n",
      "Best val_accuracy So Far: 0.7713438868522644\n",
      "Total elapsed time: 00h 16m 00s\n"
     ]
    }
   ],
   "source": [
    "def build_model(hp):\n",
    "    model = keras.Sequential()\n",
    "\n",
    "    model.add(layers.Dense(units=hp.Int('units_0', min_value=32, max_value=512, step=32), \n",
    "                           activation='relu', input_shape=[len(train_x.columns)])) \n",
    "\n",
    "    hp_activation = hp.Choice('activation', values=['relu', 'sigmoid', 'softmax', 'softplus', 'tanh', 'selu', 'elu'])\n",
    "\n",
    "    # Tune the number of hidden layers and neurons in each layer\n",
    "    for i in range(1, hp.Int('num_layers', 1, 10)):  \n",
    "        model.add(layers.Dense(units=hp.Int('units_' + str(i), min_value=32, max_value=256, step=32), \n",
    "                               activation=hp_activation))  \n",
    "\n",
    "    # model.add(layers.Dense(10)) \n",
    "\n",
    "    # Tunes the learning rate for the optimizer\n",
    "    hp_learning_rate = hp.Choice('learning_rate', values=[1e-2, 1e-3, 1e-4])\n",
    "\n",
    "    # Tunes the optimizer\n",
    "    hp_optimizer = hp.Choice('optimizer', values=['Nadam','adam', 'sgd', 'rmsprop'])\n",
    "\n",
    "    model.compile(optimizer=hp_optimizer,\n",
    "                  loss=keras.losses.SparseCategoricalCrossentropy(from_logits=True), \n",
    "                  metrics=['accuracy'])\n",
    "\n",
    "    return model\n",
    "\n",
    "tuner = Hyperband(\n",
    "    build_model,\n",
    "    objective='val_accuracy',\n",
    "    max_epochs=5,  \n",
    "    factor=3,\n",
    "    directory='my_dir',\n",
    "    project_name='new_train')\n",
    "\n",
    "# Adding an early stopping callback\n",
    "stop_early = tf.keras.callbacks.EarlyStopping(monitor='val_loss', patience=5)\n",
    "\n",
    "tuner.search(train_x.to_numpy(), train_y.to_numpy(), epochs=5, validation_data=(test_x.to_numpy(), test_y.to_numpy()), callbacks=[stop_early])\n"
   ]
  },
  {
   "cell_type": "code",
   "execution_count": 18,
   "metadata": {},
   "outputs": [],
   "source": [
    "best_model = tuner.get_best_models(num_models=1)[0]\n"
   ]
  },
  {
   "cell_type": "code",
   "execution_count": 19,
   "metadata": {},
   "outputs": [
    {
     "data": {
      "text/plain": [
       "<keras.src.optimizers.adam.Adam at 0x777f75cf6260>"
      ]
     },
     "execution_count": 19,
     "metadata": {},
     "output_type": "execute_result"
    }
   ],
   "source": [
    "best_model.optimizer"
   ]
  },
  {
   "cell_type": "code",
   "execution_count": 21,
   "metadata": {},
   "outputs": [
    {
     "name": "stdout",
     "output_type": "stream",
     "text": [
      "Model: \"sequential\"\n",
      "_________________________________________________________________\n",
      " Layer (type)                Output Shape              Param #   \n",
      "=================================================================\n",
      " dense (Dense)               (None, 128)               768       \n",
      "                                                                 \n",
      " dense_1 (Dense)             (None, 128)               16512     \n",
      "                                                                 \n",
      " dense_2 (Dense)             (None, 32)                4128      \n",
      "                                                                 \n",
      " dense_3 (Dense)             (None, 224)               7392      \n",
      "                                                                 \n",
      " dense_4 (Dense)             (None, 128)               28800     \n",
      "                                                                 \n",
      " dense_5 (Dense)             (None, 10)                1290      \n",
      "                                                                 \n",
      "=================================================================\n",
      "Total params: 58890 (230.04 KB)\n",
      "Trainable params: 58890 (230.04 KB)\n",
      "Non-trainable params: 0 (0.00 Byte)\n",
      "_________________________________________________________________\n"
     ]
    }
   ],
   "source": [
    "best_model.summary()"
   ]
  },
  {
   "cell_type": "code",
   "execution_count": 22,
   "metadata": {},
   "outputs": [],
   "source": [
    "from sklearn.utils import class_weight\n",
    "from keras.callbacks import EarlyStopping\n"
   ]
  },
  {
   "cell_type": "code",
   "execution_count": 23,
   "metadata": {},
   "outputs": [
    {
     "name": "stdout",
     "output_type": "stream",
     "text": [
      "[0.74177779 1.53400731]\n",
      "Epoch 1/200\n",
      "2682/2682 [==============================] - 12s 4ms/step - loss: 0.5468 - accuracy: 0.7437 - val_loss: 0.5388 - val_accuracy: 0.7518\n",
      "Epoch 2/200\n",
      "2682/2682 [==============================] - 7s 3ms/step - loss: 0.5450 - accuracy: 0.7442 - val_loss: 0.5436 - val_accuracy: 0.7379\n",
      "Epoch 3/200\n",
      "2682/2682 [==============================] - 7s 2ms/step - loss: 0.5441 - accuracy: 0.7448 - val_loss: 0.5421 - val_accuracy: 0.7501\n",
      "Epoch 4/200\n",
      "2682/2682 [==============================] - 7s 3ms/step - loss: 0.5440 - accuracy: 0.7434 - val_loss: 0.5322 - val_accuracy: 0.7493\n",
      "Epoch 5/200\n",
      "2682/2682 [==============================] - 7s 3ms/step - loss: 0.5437 - accuracy: 0.7436 - val_loss: 0.5739 - val_accuracy: 0.7198\n",
      "Epoch 6/200\n",
      "2682/2682 [==============================] - 7s 3ms/step - loss: 0.5438 - accuracy: 0.7439 - val_loss: 0.5548 - val_accuracy: 0.7355\n",
      "Epoch 7/200\n",
      "2682/2682 [==============================] - 7s 3ms/step - loss: 0.5434 - accuracy: 0.7429 - val_loss: 0.5457 - val_accuracy: 0.7368\n",
      "Epoch 8/200\n",
      "2682/2682 [==============================] - 7s 3ms/step - loss: 0.5432 - accuracy: 0.7432 - val_loss: 0.5457 - val_accuracy: 0.7386\n",
      "Epoch 9/200\n",
      "2682/2682 [==============================] - 7s 3ms/step - loss: 0.5431 - accuracy: 0.7429 - val_loss: 0.5979 - val_accuracy: 0.7012\n",
      "Epoch 10/200\n",
      "2682/2682 [==============================] - 7s 3ms/step - loss: 0.5430 - accuracy: 0.7432 - val_loss: 0.5175 - val_accuracy: 0.7549\n",
      "Epoch 11/200\n",
      "2682/2682 [==============================] - 7s 3ms/step - loss: 0.5429 - accuracy: 0.7435 - val_loss: 0.5527 - val_accuracy: 0.7387\n",
      "Epoch 12/200\n",
      "2682/2682 [==============================] - 7s 3ms/step - loss: 0.5428 - accuracy: 0.7436 - val_loss: 0.5500 - val_accuracy: 0.7377\n",
      "Epoch 13/200\n",
      "2682/2682 [==============================] - 7s 3ms/step - loss: 0.5427 - accuracy: 0.7437 - val_loss: 0.5333 - val_accuracy: 0.7432\n",
      "Epoch 14/200\n",
      "2682/2682 [==============================] - 7s 3ms/step - loss: 0.5427 - accuracy: 0.7432 - val_loss: 0.5440 - val_accuracy: 0.7416\n",
      "Epoch 15/200\n",
      "2682/2682 [==============================] - 8s 3ms/step - loss: 0.5425 - accuracy: 0.7432 - val_loss: 0.5292 - val_accuracy: 0.7505\n",
      "Epoch 16/200\n",
      "2682/2682 [==============================] - 11s 4ms/step - loss: 0.5425 - accuracy: 0.7440 - val_loss: 0.5429 - val_accuracy: 0.7383\n",
      "Epoch 17/200\n",
      "2682/2682 [==============================] - 10s 4ms/step - loss: 0.5423 - accuracy: 0.7442 - val_loss: 0.5334 - val_accuracy: 0.7484\n",
      "Epoch 18/200\n",
      "2682/2682 [==============================] - 11s 4ms/step - loss: 0.5422 - accuracy: 0.7438 - val_loss: 0.5541 - val_accuracy: 0.7258\n",
      "Epoch 18: early stopping\n"
     ]
    }
   ],
   "source": [
    "# Assume 'tuner' is your Keras Tuner object and you've completed the search process\n",
    "# best_model = tuner.get_best_models(num_models=1)[0]\n",
    "\n",
    "from tensorflow.keras.layers import Dense\n",
    "best_model.add(Dense(1, kernel_initializer='normal', activation='sigmoid',name='lastlayer'))\n",
    "best_model.compile(optimizer='Nadam', loss='binary_crossentropy', metrics=['accuracy'])\n",
    "\n",
    "callback=EarlyStopping(monitor='val_loss',min_delta=0.0001,patience=8,verbose=1,mode='auto',baseline=None,restore_best_weights=False)\n",
    "\n",
    "class_weights = class_weight.compute_class_weight('balanced', classes=np.unique(train_y), y=train_y[:])\n",
    "print(class_weights)\n",
    "\n",
    "best_model.fit(train_x,\n",
    "        train_y,\n",
    "        epochs=200,\n",
    "        batch_size=128,\n",
    "        class_weight={0:class_weights[0] , 1: class_weights[1]},\n",
    "        validation_split=0.2,\n",
    "        shuffle=True,\n",
    "       verbose=1,callbacks=callback);\n",
    "\n"
   ]
  },
  {
   "cell_type": "code",
   "execution_count": 24,
   "metadata": {},
   "outputs": [
    {
     "name": "stderr",
     "output_type": "stream",
     "text": [
      "/home/shounak/.local/lib/python3.10/site-packages/keras/src/engine/training.py:3103: UserWarning: You are saving your model as an HDF5 file via `model.save()`. This file format is considered legacy. We recommend using instead the native Keras format, e.g. `model.save('my_model.keras')`.\n",
      "  saving_api.save_model(\n"
     ]
    }
   ],
   "source": [
    "best_model.save('models/new_model_tuned_drp_var.h5')\n",
    "best_model.save_weights('models/new_model_tuned_drp_var_weights.h5')"
   ]
  },
  {
   "cell_type": "code",
   "execution_count": 25,
   "metadata": {},
   "outputs": [
    {
     "name": "stdout",
     "output_type": "stream",
     "text": [
      "3353/3353 [==============================] - 4s 1ms/step\n"
     ]
    }
   ],
   "source": [
    "pred_y=best_model.predict(test_x)"
   ]
  },
  {
   "cell_type": "code",
   "execution_count": 30,
   "metadata": {},
   "outputs": [
    {
     "name": "stdout",
     "output_type": "stream",
     "text": [
      "(107279, 1)\n"
     ]
    }
   ],
   "source": [
    "print(np.shape(pred_y))"
   ]
  },
  {
   "cell_type": "code",
   "execution_count": 27,
   "metadata": {},
   "outputs": [
    {
     "data": {
      "image/png": "[encoded data removed]",
      "text/plain": [
       "<Figure size 640x480 with 1 Axes>"
      ]
     },
     "metadata": {},
     "output_type": "display_data"
    }
   ],
   "source": [
    "plt.clf()\n",
    "binnings = np.arange(0.0, 1.0, 0.04)\n",
    "plt.hist( pred_y[test_y==0], bins=binnings, alpha=0.8, label=\"Gluons\", density=1 )\n",
    "plt.hist( pred_y[test_y==1], bins=binnings, alpha=0.8, label=\"Quarks\", density=1 )\n",
    "plt.xlim(0,1)\n",
    "plt.legend()\n",
    "plt.xlabel('DNN output value')\n",
    "plt.title('Simple DNN classifier');"
   ]
  },
  {
   "cell_type": "code",
   "execution_count": 28,
   "metadata": {},
   "outputs": [
    {
     "name": "stdout",
     "output_type": "stream",
     "text": [
      "0.8005039802847637\n"
     ]
    }
   ],
   "source": [
    "from sklearn.metrics import roc_auc_score, roc_curve, auc\n",
    "fpr_dnn, tpr_dnn, thresholds_dnn  = roc_curve(test_y, pred_y)\n",
    "roc_auc_dnn = auc(fpr_dnn, tpr_dnn)\n",
    "\n",
    "print(roc_auc_dnn)"
   ]
  },
  {
   "cell_type": "code",
   "execution_count": 29,
   "metadata": {},
   "outputs": [
    {
     "data": {
      "text/plain": [
       "Text(0.5, 0, 'Gluon jet acceptance rate')"
      ]
     },
     "execution_count": 29,
     "metadata": {},
     "output_type": "execute_result"
    },
    {
     "data": {
      "image/png": "[encoded data removed]",
      "text/plain": [
       "<Figure size 640x480 with 1 Axes>"
      ]
     },
     "metadata": {},
     "output_type": "display_data"
    }
   ],
   "source": [
    "plt.plot(fpr_dnn, tpr_dnn, 'b', label='Simple DNN classifier, AUC = %0.4f'% roc_auc_dnn)\n",
    "plt.plot([0,1], [0,1], 'k--')\n",
    "plt.text(0.4, 0.35, '$0<|\\eta|<2.5 ,$ $30 $ GeV$<p_T<600 $ GeV', fontsize = 10)\n",
    "plt.xlim([0.0, 1.0])\n",
    "plt.ylim([0.0, 1.0])\n",
    "plt.legend(loc = 'lower right',prop={'size': 7})\n",
    "plt.title(\"Receiver operating characteristic\")\n",
    "plt.ylabel('Quark jet acceptance rate')\n",
    "plt.xlabel('Gluon jet acceptance rate')"
   ]
  }
 ],
 "metadata": {
  "kernelspec": {
   "display_name": "Python 3",
   "language": "python",
   "name": "python3"
  },
  "language_info": {
   "codemirror_mode": {
    "name": "ipython",
    "version": 3
   },
   "file_extension": ".py",
   "mimetype": "text/x-python",
   "name": "python",
   "nbconvert_exporter": "python",
   "pygments_lexer": "ipython3",
   "version": "3.10.12"
  }
 },
 "nbformat": 4,
 "nbformat_minor": 2
}
