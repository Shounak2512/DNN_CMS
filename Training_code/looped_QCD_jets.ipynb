{
 "cells": [
  {
   "cell_type": "code",
   "execution_count": null,
   "metadata": {},
   "outputs": [
    {
     "name": "stderr",
     "output_type": "stream",
     "text": [
      "/home/shounak/.local/lib/python3.10/site-packages/tqdm/auto.py:21: TqdmWarning: IProgress not found. Please update jupyter and ipywidgets. See https://ipywidgets.readthedocs.io/en/stable/user_install.html\n",
      "  from .autonotebook import tqdm as notebook_tqdm\n"
     ]
    }
   ],
   "source": [
    "%matplotlib inline\n",
    "\n",
    "import numpy as np\n",
    "import pandas as pd\n",
    "import matplotlib.pyplot as plt\n",
    "import uproot\n",
    "import tqdm\n",
    "import shap"
   ]
  },
  {
   "cell_type": "code",
   "execution_count": 3,
   "metadata": {},
   "outputs": [
    {
     "name": "stderr",
     "output_type": "stream",
     "text": [
      "100%|██████████| 9/9 [00:02<00:00,  4.10it/s]\n"
     ]
    }
   ],
   "source": [
    "df_list=[]\n",
    "for filenumber in tqdm.tqdm(range(1,10)):\n",
    "# Open the .root file\n",
    "    filePath=f'../36_files/JetNtuple_RunIISummer16_13TeV_MC_{filenumber}.root'\n",
    "    file = uproot.open(filePath)\n",
    "# Access the tree structure\n",
    "    tree = file['AK4jets/jetTree']\n",
    "# Define the columns you want to read\n",
    "    columns = ['isPhysG', 'isPhysUDS','QG_mult','QG_ptD','QG_axis2','jetPt','jetEta','jetQGl','jetMass','jetGirth','jetArea','jetChargedHadronMult','jetNeutralHadronMult','jetChargedMult','jetNeutralMult']\n",
    "    df=tree.arrays(columns, library='pd')\n",
    "    df_list.append(df)\n",
    "df=pd.concat(df_list,ignore_index='true')\n",
    "# First remove all the other types of jets from the data except the gluon and the light quark (UDS) jets\n",
    "df = df[(df.isPhysG==1) | (df.isPhysUDS==1)].reset_index()\n",
    "#selecting only a range of pt \n",
    "df_pt_ranged=df[(df.jetPt>30) & (df.jetPt<600)]\n",
    "df=df_pt_ranged\n",
    "\n",
    "from sklearn.model_selection import train_test_split\n",
    "\n",
    "train, test = train_test_split(df, test_size=0.2, random_state=42)\n",
    "\n",
    "train_y = train.isPhysUDS\n",
    "test_y = test.isPhysUDS\n",
    "# training and test variables for each training variable\n",
    "#input_features = ['QG_mult','QG_ptD','QG_axis2','jetPt','jetEta','jetMass','jetGirth','jetArea','jetChargedHadronMult','jetNeutralHadronMult']\n",
    "input_features = ['QG_mult','QG_ptD','QG_axis2','jetMass','jetGirth','jetArea','jetChargedHadronMult','jetNeutralHadronMult']\n",
    "\n",
    "train_x_var=[]\n",
    "test_x_var=[]\n",
    "\n",
    "for input in input_features:\n",
    "    train_x = train[[input]]\n",
    "    test_x = test[[input]]\n",
    " # Normalize the features\n",
    "    train_x_mean = train_x.mean()\n",
    "    train_x_std = train_x.std()\n",
    "    exec(f'train_x_{input}= (train_x - train_x_mean) / train_x_std')\n",
    "    exec(f'test_x_{input} = (test_x - train_x_mean) / train_x_std')\n",
    "    exec(f'train_x_var.append(train_x_{input})')\n",
    "    exec(f'test_x_var.append(test_x_{input})')\n",
    "train_x=train[input_features]\n",
    "test_x=test[input_features]\n"
   ]
  },
  {
   "cell_type": "code",
   "execution_count": 4,
   "metadata": {},
   "outputs": [
    {
     "name": "stderr",
     "output_type": "stream",
     "text": [
      "2024-10-28 11:24:18.164627: I external/local_tsl/tsl/cuda/cudart_stub.cc:31] Could not find cuda drivers on your machine, GPU will not be used.\n",
      "2024-10-28 11:24:18.328975: E external/local_xla/xla/stream_executor/cuda/cuda_dnn.cc:9261] Unable to register cuDNN factory: Attempting to register factory for plugin cuDNN when one has already been registered\n",
      "2024-10-28 11:24:18.329102: E external/local_xla/xla/stream_executor/cuda/cuda_fft.cc:607] Unable to register cuFFT factory: Attempting to register factory for plugin cuFFT when one has already been registered\n",
      "2024-10-28 11:24:18.354578: E external/local_xla/xla/stream_executor/cuda/cuda_blas.cc:1515] Unable to register cuBLAS factory: Attempting to register factory for plugin cuBLAS when one has already been registered\n",
      "2024-10-28 11:24:18.422652: I external/local_tsl/tsl/cuda/cudart_stub.cc:31] Could not find cuda drivers on your machine, GPU will not be used.\n",
      "2024-10-28 11:24:18.423862: I tensorflow/core/platform/cpu_feature_guard.cc:182] This TensorFlow binary is optimized to use available CPU instructions in performance-critical operations.\n",
      "To enable the following instructions: AVX2 FMA, in other operations, rebuild TensorFlow with the appropriate compiler flags.\n",
      "2024-10-28 11:24:20.353944: W tensorflow/compiler/tf2tensorrt/utils/py_utils.cc:38] TF-TRT Warning: Could not find TensorRT\n"
     ]
    }
   ],
   "source": [
    "import tensorflow as tf\n",
    "from keras.models import Model, Sequential\n",
    "from keras.layers import Input, Dense, Dropout\n",
    "from sklearn.utils import class_weight\n",
    "from keras.callbacks import EarlyStopping\n"
   ]
  },
  {
   "cell_type": "code",
   "execution_count": 26,
   "metadata": {},
   "outputs": [
    {
     "name": "stdout",
     "output_type": "stream",
     "text": [
      "Epoch 1/200\n",
      "2682/2682 [==============================] - 7s 2ms/step - loss: 0.6596 - accuracy: 0.6069 - val_loss: 0.6484 - val_accuracy: 0.6137\n",
      "Epoch 2/200\n",
      "2682/2682 [==============================] - 6s 2ms/step - loss: 0.6588 - accuracy: 0.6070 - val_loss: 0.6511 - val_accuracy: 0.6015\n",
      "Epoch 3/200\n",
      "2682/2682 [==============================] - 6s 2ms/step - loss: 0.6588 - accuracy: 0.6037 - val_loss: 0.6558 - val_accuracy: 0.5691\n",
      "Epoch 4/200\n",
      "2682/2682 [==============================] - 5s 2ms/step - loss: 0.6586 - accuracy: 0.6053 - val_loss: 0.6346 - val_accuracy: 0.6137\n",
      "Epoch 5/200\n",
      "2682/2682 [==============================] - 6s 2ms/step - loss: 0.6590 - accuracy: 0.6060 - val_loss: 0.6510 - val_accuracy: 0.6015\n",
      "Epoch 6/200\n",
      "2682/2682 [==============================] - 6s 2ms/step - loss: 0.6583 - accuracy: 0.6012 - val_loss: 0.6470 - val_accuracy: 0.6137\n",
      "Epoch 7/200\n",
      "2682/2682 [==============================] - 6s 2ms/step - loss: 0.6589 - accuracy: 0.6013 - val_loss: 0.6403 - val_accuracy: 0.6137\n",
      "Epoch 8/200\n",
      "2682/2682 [==============================] - 6s 2ms/step - loss: 0.6588 - accuracy: 0.6066 - val_loss: 0.6514 - val_accuracy: 0.5851\n",
      "Epoch 9/200\n",
      "2682/2682 [==============================] - 6s 2ms/step - loss: 0.6585 - accuracy: 0.6026 - val_loss: 0.6531 - val_accuracy: 0.5851\n",
      "Epoch 10/200\n",
      "2682/2682 [==============================] - 6s 2ms/step - loss: 0.6590 - accuracy: 0.6119 - val_loss: 0.6455 - val_accuracy: 0.6137\n",
      "Epoch 11/200\n",
      "2682/2682 [==============================] - 6s 2ms/step - loss: 0.6590 - accuracy: 0.6010 - val_loss: 0.6446 - val_accuracy: 0.6137\n",
      "Epoch 12/200\n",
      "2682/2682 [==============================] - 7s 2ms/step - loss: 0.6587 - accuracy: 0.6132 - val_loss: 0.6454 - val_accuracy: 0.6137\n",
      "Epoch 12: early stopping\n"
     ]
    },
    {
     "name": "stderr",
     "output_type": "stream",
     "text": [
      "/home/shounak/.local/lib/python3.10/site-packages/keras/src/engine/training.py:3103: UserWarning: You are saving your model as an HDF5 file via `model.save()`. This file format is considered legacy. We recommend using instead the native Keras format, e.g. `model.save('my_model.keras')`.\n",
      "  saving_api.save_model(\n"
     ]
    },
    {
     "name": "stdout",
     "output_type": "stream",
     "text": [
      "Epoch 1/200\n",
      "2682/2682 [==============================] - 9s 3ms/step - loss: 0.6091 - accuracy: 0.6666 - val_loss: 0.6026 - val_accuracy: 0.6885\n",
      "Epoch 2/200\n",
      "2682/2682 [==============================] - 8s 3ms/step - loss: 0.6076 - accuracy: 0.6638 - val_loss: 0.5877 - val_accuracy: 0.7103\n",
      "Epoch 3/200\n",
      "2682/2682 [==============================] - 7s 3ms/step - loss: 0.6076 - accuracy: 0.6669 - val_loss: 0.5848 - val_accuracy: 0.7159\n",
      "Epoch 4/200\n",
      "2682/2682 [==============================] - 7s 3ms/step - loss: 0.6074 - accuracy: 0.6611 - val_loss: 0.5793 - val_accuracy: 0.7061\n",
      "Epoch 5/200\n",
      "2682/2682 [==============================] - 8s 3ms/step - loss: 0.6076 - accuracy: 0.6652 - val_loss: 0.5955 - val_accuracy: 0.6950\n",
      "Epoch 6/200\n",
      "2682/2682 [==============================] - 7s 3ms/step - loss: 0.6071 - accuracy: 0.6662 - val_loss: 0.5947 - val_accuracy: 0.7021\n",
      "Epoch 7/200\n",
      "2682/2682 [==============================] - 7s 2ms/step - loss: 0.6080 - accuracy: 0.6663 - val_loss: 0.5797 - val_accuracy: 0.7053\n",
      "Epoch 8/200\n",
      "2682/2682 [==============================] - 8s 3ms/step - loss: 0.6074 - accuracy: 0.6637 - val_loss: 0.6085 - val_accuracy: 0.6890\n",
      "Epoch 9/200\n",
      "2682/2682 [==============================] - 10s 4ms/step - loss: 0.6079 - accuracy: 0.6578 - val_loss: 0.5937 - val_accuracy: 0.6901\n",
      "Epoch 10/200\n",
      "2682/2682 [==============================] - 9s 3ms/step - loss: 0.6074 - accuracy: 0.6608 - val_loss: 0.5899 - val_accuracy: 0.7022\n",
      "Epoch 11/200\n",
      "2682/2682 [==============================] - 9s 3ms/step - loss: 0.6068 - accuracy: 0.6649 - val_loss: 0.5979 - val_accuracy: 0.6940\n",
      "Epoch 12/200\n",
      "2682/2682 [==============================] - 9s 3ms/step - loss: 0.6068 - accuracy: 0.6687 - val_loss: 0.5852 - val_accuracy: 0.7088\n",
      "Epoch 12: early stopping\n"
     ]
    },
    {
     "name": "stderr",
     "output_type": "stream",
     "text": [
      "/home/shounak/.local/lib/python3.10/site-packages/keras/src/engine/training.py:3103: UserWarning: You are saving your model as an HDF5 file via `model.save()`. This file format is considered legacy. We recommend using instead the native Keras format, e.g. `model.save('my_model.keras')`.\n",
      "  saving_api.save_model(\n"
     ]
    },
    {
     "name": "stdout",
     "output_type": "stream",
     "text": [
      "Epoch 1/200\n",
      "2682/2682 [==============================] - 11s 3ms/step - loss: 0.6051 - accuracy: 0.6850 - val_loss: 0.5692 - val_accuracy: 0.7359\n",
      "Epoch 2/200\n",
      "2682/2682 [==============================] - 9s 3ms/step - loss: 0.6009 - accuracy: 0.7041 - val_loss: 0.5728 - val_accuracy: 0.7242\n",
      "Epoch 3/200\n",
      "2682/2682 [==============================] - 9s 3ms/step - loss: 0.6003 - accuracy: 0.6967 - val_loss: 0.5614 - val_accuracy: 0.7327\n",
      "Epoch 4/200\n",
      "2682/2682 [==============================] - 9s 3ms/step - loss: 0.5996 - accuracy: 0.6942 - val_loss: 0.5681 - val_accuracy: 0.7233\n",
      "Epoch 5/200\n",
      "2682/2682 [==============================] - 9s 3ms/step - loss: 0.5989 - accuracy: 0.6907 - val_loss: 0.5714 - val_accuracy: 0.7205\n",
      "Epoch 6/200\n",
      "2682/2682 [==============================] - 9s 3ms/step - loss: 0.5996 - accuracy: 0.6874 - val_loss: 0.5750 - val_accuracy: 0.7115\n",
      "Epoch 7/200\n",
      "2682/2682 [==============================] - 9s 3ms/step - loss: 0.5988 - accuracy: 0.6929 - val_loss: 0.5689 - val_accuracy: 0.7178\n",
      "Epoch 8/200\n",
      "2682/2682 [==============================] - 8s 3ms/step - loss: 0.5992 - accuracy: 0.6880 - val_loss: 0.5670 - val_accuracy: 0.7293\n",
      "Epoch 9/200\n",
      "2682/2682 [==============================] - 9s 3ms/step - loss: 0.5994 - accuracy: 0.6836 - val_loss: 0.5649 - val_accuracy: 0.7291\n",
      "Epoch 10/200\n",
      "2682/2682 [==============================] - 9s 3ms/step - loss: 0.5991 - accuracy: 0.6839 - val_loss: 0.5641 - val_accuracy: 0.7221\n",
      "Epoch 11/200\n",
      "2682/2682 [==============================] - 8s 3ms/step - loss: 0.5990 - accuracy: 0.6804 - val_loss: 0.5725 - val_accuracy: 0.7162\n",
      "Epoch 11: early stopping\n"
     ]
    },
    {
     "name": "stderr",
     "output_type": "stream",
     "text": [
      "/home/shounak/.local/lib/python3.10/site-packages/keras/src/engine/training.py:3103: UserWarning: You are saving your model as an HDF5 file via `model.save()`. This file format is considered legacy. We recommend using instead the native Keras format, e.g. `model.save('my_model.keras')`.\n",
      "  saving_api.save_model(\n"
     ]
    },
    {
     "name": "stdout",
     "output_type": "stream",
     "text": [
      "Epoch 1/200\n",
      "2682/2682 [==============================] - 10s 3ms/step - loss: 0.6911 - accuracy: 0.4909 - val_loss: 0.6922 - val_accuracy: 0.4966\n",
      "Epoch 2/200\n",
      "2682/2682 [==============================] - 10s 4ms/step - loss: 0.6909 - accuracy: 0.4833 - val_loss: 0.6890 - val_accuracy: 0.5032\n",
      "Epoch 3/200\n",
      "2682/2682 [==============================] - 10s 4ms/step - loss: 0.6907 - accuracy: 0.4842 - val_loss: 0.6958 - val_accuracy: 0.4721\n",
      "Epoch 4/200\n",
      "2682/2682 [==============================] - 9s 3ms/step - loss: 0.6908 - accuracy: 0.4790 - val_loss: 0.6941 - val_accuracy: 0.4797\n",
      "Epoch 5/200\n",
      "2682/2682 [==============================] - 9s 3ms/step - loss: 0.6908 - accuracy: 0.4764 - val_loss: 0.6946 - val_accuracy: 0.4674\n",
      "Epoch 6/200\n",
      "2682/2682 [==============================] - 9s 3ms/step - loss: 0.6908 - accuracy: 0.4790 - val_loss: 0.6896 - val_accuracy: 0.4905\n",
      "Epoch 7/200\n",
      "2682/2682 [==============================] - 8s 3ms/step - loss: 0.6908 - accuracy: 0.4757 - val_loss: 0.6939 - val_accuracy: 0.4807\n",
      "Epoch 8/200\n",
      "2682/2682 [==============================] - 9s 3ms/step - loss: 0.6907 - accuracy: 0.4809 - val_loss: 0.6843 - val_accuracy: 0.5180\n",
      "Epoch 9/200\n",
      "2682/2682 [==============================] - 8s 3ms/step - loss: 0.6907 - accuracy: 0.4789 - val_loss: 0.6931 - val_accuracy: 0.4738\n",
      "Epoch 10/200\n",
      "2682/2682 [==============================] - 9s 3ms/step - loss: 0.6905 - accuracy: 0.4792 - val_loss: 0.6955 - val_accuracy: 0.4714\n",
      "Epoch 11/200\n",
      "2682/2682 [==============================] - 9s 3ms/step - loss: 0.6906 - accuracy: 0.4761 - val_loss: 0.6887 - val_accuracy: 0.5054\n",
      "Epoch 12/200\n",
      "2682/2682 [==============================] - 8s 3ms/step - loss: 0.6904 - accuracy: 0.4806 - val_loss: 0.6994 - val_accuracy: 0.4413\n",
      "Epoch 13/200\n",
      "2682/2682 [==============================] - 9s 3ms/step - loss: 0.6906 - accuracy: 0.4756 - val_loss: 0.6926 - val_accuracy: 0.4828\n",
      "Epoch 14/200\n",
      "2682/2682 [==============================] - 8s 3ms/step - loss: 0.6905 - accuracy: 0.4755 - val_loss: 0.6929 - val_accuracy: 0.4790\n",
      "Epoch 15/200\n",
      "2682/2682 [==============================] - 8s 3ms/step - loss: 0.6906 - accuracy: 0.4777 - val_loss: 0.6918 - val_accuracy: 0.4834\n",
      "Epoch 16/200\n",
      "2682/2682 [==============================] - 9s 3ms/step - loss: 0.6906 - accuracy: 0.4756 - val_loss: 0.6856 - val_accuracy: 0.5036\n",
      "Epoch 16: early stopping\n"
     ]
    },
    {
     "name": "stderr",
     "output_type": "stream",
     "text": [
      "/home/shounak/.local/lib/python3.10/site-packages/keras/src/engine/training.py:3103: UserWarning: You are saving your model as an HDF5 file via `model.save()`. This file format is considered legacy. We recommend using instead the native Keras format, e.g. `model.save('my_model.keras')`.\n",
      "  saving_api.save_model(\n"
     ]
    },
    {
     "name": "stdout",
     "output_type": "stream",
     "text": [
      "Epoch 1/200\n",
      "2682/2682 [==============================] - 10s 3ms/step - loss: 0.6166 - accuracy: 0.6841 - val_loss: 0.5899 - val_accuracy: 0.6943\n",
      "Epoch 2/200\n",
      "2682/2682 [==============================] - 8s 3ms/step - loss: 0.6132 - accuracy: 0.6988 - val_loss: 0.5914 - val_accuracy: 0.7214\n",
      "Epoch 3/200\n",
      "2682/2682 [==============================] - 9s 3ms/step - loss: 0.6128 - accuracy: 0.6972 - val_loss: 0.5863 - val_accuracy: 0.7196\n",
      "Epoch 4/200\n",
      "2682/2682 [==============================] - 9s 3ms/step - loss: 0.6129 - accuracy: 0.6945 - val_loss: 0.5834 - val_accuracy: 0.7247\n",
      "Epoch 5/200\n",
      "2682/2682 [==============================] - 9s 3ms/step - loss: 0.6129 - accuracy: 0.6882 - val_loss: 0.5790 - val_accuracy: 0.7274\n",
      "Epoch 6/200\n",
      "2682/2682 [==============================] - 9s 3ms/step - loss: 0.6128 - accuracy: 0.6916 - val_loss: 0.5915 - val_accuracy: 0.7003\n",
      "Epoch 7/200\n",
      "2682/2682 [==============================] - 9s 3ms/step - loss: 0.6128 - accuracy: 0.6890 - val_loss: 0.5825 - val_accuracy: 0.7160\n",
      "Epoch 8/200\n",
      "2682/2682 [==============================] - 9s 4ms/step - loss: 0.6128 - accuracy: 0.6838 - val_loss: 0.5833 - val_accuracy: 0.7200\n",
      "Epoch 9/200\n",
      "2682/2682 [==============================] - 10s 4ms/step - loss: 0.6122 - accuracy: 0.6820 - val_loss: 0.5793 - val_accuracy: 0.7151\n",
      "Epoch 10/200\n",
      "2682/2682 [==============================] - 10s 4ms/step - loss: 0.6119 - accuracy: 0.6791 - val_loss: 0.5787 - val_accuracy: 0.7234\n",
      "Epoch 11/200\n",
      "2682/2682 [==============================] - 9s 3ms/step - loss: 0.6127 - accuracy: 0.6755 - val_loss: 0.5800 - val_accuracy: 0.7236\n",
      "Epoch 12/200\n",
      "2682/2682 [==============================] - 10s 4ms/step - loss: 0.6124 - accuracy: 0.6822 - val_loss: 0.5834 - val_accuracy: 0.7123\n",
      "Epoch 13/200\n",
      "2682/2682 [==============================] - 10s 4ms/step - loss: 0.6121 - accuracy: 0.6780 - val_loss: 0.5801 - val_accuracy: 0.7232\n",
      "Epoch 14/200\n",
      "2682/2682 [==============================] - 10s 4ms/step - loss: 0.6119 - accuracy: 0.6791 - val_loss: 0.5851 - val_accuracy: 0.7185\n",
      "Epoch 15/200\n",
      "2682/2682 [==============================] - 9s 3ms/step - loss: 0.6125 - accuracy: 0.6807 - val_loss: 0.5791 - val_accuracy: 0.7143\n",
      "Epoch 16/200\n",
      "2682/2682 [==============================] - 10s 4ms/step - loss: 0.6125 - accuracy: 0.6822 - val_loss: 0.5846 - val_accuracy: 0.7129\n",
      "Epoch 17/200\n",
      "2682/2682 [==============================] - 11s 4ms/step - loss: 0.6121 - accuracy: 0.6769 - val_loss: 0.5832 - val_accuracy: 0.7093\n",
      "Epoch 18/200\n",
      "2682/2682 [==============================] - 10s 4ms/step - loss: 0.6117 - accuracy: 0.6776 - val_loss: 0.5807 - val_accuracy: 0.7110\n",
      "Epoch 18: early stopping\n"
     ]
    },
    {
     "name": "stderr",
     "output_type": "stream",
     "text": [
      "/home/shounak/.local/lib/python3.10/site-packages/keras/src/engine/training.py:3103: UserWarning: You are saving your model as an HDF5 file via `model.save()`. This file format is considered legacy. We recommend using instead the native Keras format, e.g. `model.save('my_model.keras')`.\n",
      "  saving_api.save_model(\n"
     ]
    },
    {
     "name": "stdout",
     "output_type": "stream",
     "text": [
      "Epoch 1/200\n",
      "2682/2682 [==============================] - 11s 4ms/step - loss: 0.6922 - accuracy: 0.4085 - val_loss: 0.6925 - val_accuracy: 0.3828\n",
      "Epoch 2/200\n",
      "2682/2682 [==============================] - 9s 4ms/step - loss: 0.6921 - accuracy: 0.4181 - val_loss: 0.6964 - val_accuracy: 0.3588\n",
      "Epoch 3/200\n",
      "2682/2682 [==============================] - 9s 3ms/step - loss: 0.6921 - accuracy: 0.4006 - val_loss: 0.6940 - val_accuracy: 0.4076\n",
      "Epoch 4/200\n",
      "2682/2682 [==============================] - 9s 4ms/step - loss: 0.6921 - accuracy: 0.4021 - val_loss: 0.6930 - val_accuracy: 0.3828\n",
      "Epoch 5/200\n",
      "2682/2682 [==============================] - 10s 4ms/step - loss: 0.6920 - accuracy: 0.4094 - val_loss: 0.6932 - val_accuracy: 0.3828\n",
      "Epoch 6/200\n",
      "2682/2682 [==============================] - 10s 4ms/step - loss: 0.6920 - accuracy: 0.4042 - val_loss: 0.6925 - val_accuracy: 0.3828\n",
      "Epoch 7/200\n",
      "2682/2682 [==============================] - 9s 3ms/step - loss: 0.6920 - accuracy: 0.3916 - val_loss: 0.6920 - val_accuracy: 0.3828\n",
      "Epoch 8/200\n",
      "2682/2682 [==============================] - 9s 3ms/step - loss: 0.6919 - accuracy: 0.3915 - val_loss: 0.6901 - val_accuracy: 0.3994\n",
      "Epoch 9/200\n",
      "2682/2682 [==============================] - 9s 3ms/step - loss: 0.6919 - accuracy: 0.3892 - val_loss: 0.6944 - val_accuracy: 0.3759\n",
      "Epoch 10/200\n",
      "2682/2682 [==============================] - 9s 3ms/step - loss: 0.6919 - accuracy: 0.3917 - val_loss: 0.6948 - val_accuracy: 0.3759\n",
      "Epoch 11/200\n",
      "2682/2682 [==============================] - 6s 2ms/step - loss: 0.6919 - accuracy: 0.3913 - val_loss: 0.6923 - val_accuracy: 0.3759\n",
      "Epoch 12/200\n",
      "2682/2682 [==============================] - 4s 1ms/step - loss: 0.6919 - accuracy: 0.3881 - val_loss: 0.6921 - val_accuracy: 0.3759\n",
      "Epoch 13/200\n",
      "2682/2682 [==============================] - 4s 2ms/step - loss: 0.6918 - accuracy: 0.3980 - val_loss: 0.6936 - val_accuracy: 0.3828\n",
      "Epoch 14/200\n",
      "2682/2682 [==============================] - 4s 2ms/step - loss: 0.6919 - accuracy: 0.3901 - val_loss: 0.6901 - val_accuracy: 0.3759\n",
      "Epoch 15/200\n",
      "2682/2682 [==============================] - 4s 1ms/step - loss: 0.6919 - accuracy: 0.3786 - val_loss: 0.6925 - val_accuracy: 0.3759\n",
      "Epoch 16/200\n",
      "2682/2682 [==============================] - 4s 1ms/step - loss: 0.6918 - accuracy: 0.3831 - val_loss: 0.6919 - val_accuracy: 0.3759\n",
      "Epoch 16: early stopping\n",
      "Epoch 1/200\n"
     ]
    },
    {
     "name": "stderr",
     "output_type": "stream",
     "text": [
      "/home/shounak/.local/lib/python3.10/site-packages/keras/src/engine/training.py:3103: UserWarning: You are saving your model as an HDF5 file via `model.save()`. This file format is considered legacy. We recommend using instead the native Keras format, e.g. `model.save('my_model.keras')`.\n",
      "  saving_api.save_model(\n"
     ]
    },
    {
     "name": "stdout",
     "output_type": "stream",
     "text": [
      "2682/2682 [==============================] - 4s 1ms/step - loss: 0.6654 - accuracy: 0.5972 - val_loss: 0.6509 - val_accuracy: 0.6164\n",
      "Epoch 2/200\n",
      "2682/2682 [==============================] - 3s 1ms/step - loss: 0.6649 - accuracy: 0.5931 - val_loss: 0.6486 - val_accuracy: 0.6164\n",
      "Epoch 3/200\n",
      "2682/2682 [==============================] - 9s 3ms/step - loss: 0.6648 - accuracy: 0.5973 - val_loss: 0.6531 - val_accuracy: 0.6164\n",
      "Epoch 4/200\n",
      "2682/2682 [==============================] - 9s 3ms/step - loss: 0.6643 - accuracy: 0.6067 - val_loss: 0.6582 - val_accuracy: 0.5809\n",
      "Epoch 5/200\n",
      "2682/2682 [==============================] - 8s 3ms/step - loss: 0.6646 - accuracy: 0.5956 - val_loss: 0.6512 - val_accuracy: 0.5992\n",
      "Epoch 6/200\n",
      "2682/2682 [==============================] - 8s 3ms/step - loss: 0.6648 - accuracy: 0.5983 - val_loss: 0.6515 - val_accuracy: 0.5992\n",
      "Epoch 7/200\n",
      "2682/2682 [==============================] - 8s 3ms/step - loss: 0.6648 - accuracy: 0.5959 - val_loss: 0.6586 - val_accuracy: 0.5809\n",
      "Epoch 8/200\n",
      "2682/2682 [==============================] - 8s 3ms/step - loss: 0.6647 - accuracy: 0.5911 - val_loss: 0.6563 - val_accuracy: 0.6164\n",
      "Epoch 9/200\n",
      "2682/2682 [==============================] - 8s 3ms/step - loss: 0.6649 - accuracy: 0.6022 - val_loss: 0.6527 - val_accuracy: 0.6164\n",
      "Epoch 10/200\n",
      "2682/2682 [==============================] - 9s 3ms/step - loss: 0.6644 - accuracy: 0.5991 - val_loss: 0.6544 - val_accuracy: 0.5992\n",
      "Epoch 10: early stopping\n"
     ]
    },
    {
     "name": "stderr",
     "output_type": "stream",
     "text": [
      "/home/shounak/.local/lib/python3.10/site-packages/keras/src/engine/training.py:3103: UserWarning: You are saving your model as an HDF5 file via `model.save()`. This file format is considered legacy. We recommend using instead the native Keras format, e.g. `model.save('my_model.keras')`.\n",
      "  saving_api.save_model(\n"
     ]
    },
    {
     "name": "stdout",
     "output_type": "stream",
     "text": [
      "Epoch 1/200\n",
      "2682/2682 [==============================] - 10s 3ms/step - loss: 0.6925 - accuracy: 0.5605 - val_loss: 0.6930 - val_accuracy: 0.5208\n",
      "Epoch 2/200\n",
      "2682/2682 [==============================] - 8s 3ms/step - loss: 0.6925 - accuracy: 0.5652 - val_loss: 0.6890 - val_accuracy: 0.6076\n",
      "Epoch 3/200\n",
      "2682/2682 [==============================] - 9s 3ms/step - loss: 0.6925 - accuracy: 0.5716 - val_loss: 0.6908 - val_accuracy: 0.6076\n",
      "Epoch 4/200\n",
      "2682/2682 [==============================] - 8s 3ms/step - loss: 0.6925 - accuracy: 0.5666 - val_loss: 0.6898 - val_accuracy: 0.6076\n",
      "Epoch 5/200\n",
      "2682/2682 [==============================] - 9s 3ms/step - loss: 0.6925 - accuracy: 0.5662 - val_loss: 0.6890 - val_accuracy: 0.6076\n",
      "Epoch 6/200\n",
      "2682/2682 [==============================] - 9s 3ms/step - loss: 0.6925 - accuracy: 0.5704 - val_loss: 0.6892 - val_accuracy: 0.6200\n",
      "Epoch 7/200\n",
      "2682/2682 [==============================] - 8s 3ms/step - loss: 0.6925 - accuracy: 0.5601 - val_loss: 0.6938 - val_accuracy: 0.5208\n",
      "Epoch 8/200\n",
      "2682/2682 [==============================] - 8s 3ms/step - loss: 0.6925 - accuracy: 0.5695 - val_loss: 0.6944 - val_accuracy: 0.5208\n",
      "Epoch 9/200\n",
      "2682/2682 [==============================] - 8s 3ms/step - loss: 0.6925 - accuracy: 0.5723 - val_loss: 0.6912 - val_accuracy: 0.5208\n",
      "Epoch 10/200\n",
      "2682/2682 [==============================] - 8s 3ms/step - loss: 0.6925 - accuracy: 0.5670 - val_loss: 0.6910 - val_accuracy: 0.6076\n",
      "Epoch 10: early stopping\n"
     ]
    },
    {
     "name": "stderr",
     "output_type": "stream",
     "text": [
      "/home/shounak/.local/lib/python3.10/site-packages/keras/src/engine/training.py:3103: UserWarning: You are saving your model as an HDF5 file via `model.save()`. This file format is considered legacy. We recommend using instead the native Keras format, e.g. `model.save('my_model.keras')`.\n",
      "  saving_api.save_model(\n"
     ]
    }
   ],
   "source": [
    "import numpy as np\n",
    "from keras.models import Sequential\n",
    "from keras.layers import Dense, Dropout, Input\n",
    "from keras.callbacks import EarlyStopping\n",
    "from sklearn.utils import class_weight\n",
    "\n",
    "from sklearn.model_selection import train_test_split\n",
    "\n",
    "train, test = train_test_split(df, test_size=0.2, random_state=42)\n",
    "\n",
    "# Constants and Callback\n",
    "input_features = ['QG_mult','QG_ptD','QG_axis2','jetMass','jetGirth','jetArea','jetChargedHadronMult','jetNeutralHadronMult']\n",
    "epoch_number = 200\n",
    "callback = EarlyStopping(monitor='val_loss', min_delta=0.0001, patience=8, verbose=1, mode='auto', restore_best_weights=False)\n",
    "\n",
    "# Dataset\n",
    "train_x_var, test_x_var, model_list = {}, {}, {}\n",
    "\n",
    "# Model architecture function\n",
    "def architecture(model_name, input_shape):\n",
    "    model_name.add(Input(shape=(input_shape,)))\n",
    "    model_name.add(Dropout(0.2))\n",
    "    model_name.add(Dense(100, kernel_initializer='normal', activation='relu'))\n",
    "    model_name.add(Dropout(0.2))\n",
    "    model_name.add(Dense(50, kernel_initializer='normal', activation='relu'))\n",
    "    model_name.add(Dense(1, kernel_initializer='normal', activation='sigmoid'))\n",
    "    model_name.compile(optimizer='Nadam', loss='binary_crossentropy', metrics=['accuracy'])\n",
    "\n",
    "# Fitting function\n",
    "def fitting(model_name, train_x, train_y, class_weights, model_name_str):\n",
    "    model_name.fit(\n",
    "        train_x, train_y,\n",
    "        epochs=epoch_number,\n",
    "        batch_size=128,\n",
    "        class_weight=class_weights,\n",
    "        validation_split=0.2,\n",
    "        shuffle=True,\n",
    "        verbose=1,\n",
    "        callbacks=[callback]\n",
    "    )\n",
    "    model_name.save(f\"{model_name_str}.h5\")\n",
    "\n",
    "# Prepare Data: Normalize each feature and store in dictionaries\n",
    "for input_feature in input_features:\n",
    "    # Normalize train and test data\n",
    "    train_x_feature = train[[input_feature]]\n",
    "    test_x_feature = test[[input_feature]]\n",
    "    train_x_mean = train_x_feature.mean()\n",
    "    train_x_std = train_x_feature.std()\n",
    "\n",
    "    # Normalized feature\n",
    "    train_x_var[input_feature] = (train_x_feature - train_x_mean) / train_x_std\n",
    "    test_x_var[input_feature] = (test_x_feature - train_x_mean) / train_x_std\n",
    "\n",
    "    # Initialize a model for each feature\n",
    "    model = Sequential()\n",
    "    architecture(model, input_shape=train_x_var[input_feature].shape[1])\n",
    "    model_list[input_feature] = model\n",
    "\n",
    "# Train each model on its respective feature data\n",
    "for feature_name in input_features:\n",
    "    # Extract train and test data for this feature\n",
    "    train_x = train_x_var[feature_name]\n",
    "    test_x = test_x_var[feature_name]\n",
    "    train_y = train['isPhysUDS']  # Replace with your target column name\n",
    "\n",
    "    # Compute class weights for this feature's training labels\n",
    "    classes = np.unique(train_y)\n",
    "    class_weights = dict(enumerate(class_weight.compute_class_weight('balanced', classes=classes, y=train_y)))\n",
    "\n",
    "    # Train and save the model\n",
    "    fitting(model_list[feature_name], train_x, train_y, class_weights, f\"model_{feature_name}\")\n"
   ]
  }
 ],
 "metadata": {
  "kernelspec": {
   "display_name": "Python 3",
   "language": "python",
   "name": "python3"
  },
  "language_info": {
   "codemirror_mode": {
    "name": "ipython",
    "version": 3
   },
   "file_extension": ".py",
   "mimetype": "text/x-python",
   "name": "python",
   "nbconvert_exporter": "python",
   "pygments_lexer": "ipython3",
   "version": "3.10.12"
  }
 },
 "nbformat": 4,
 "nbformat_minor": 2
}
