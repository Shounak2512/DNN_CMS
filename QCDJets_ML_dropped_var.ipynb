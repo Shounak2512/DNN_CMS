{
 "cells": [
  {
   "cell_type": "markdown",
   "metadata": {},
   "source": [
    "## Training the model on input features that have a AUC of more than 0.60 and studying the change in efficiency\n",
    "\n"
   ]
  },
  {
   "cell_type": "code",
   "execution_count": null,
   "metadata": {},
   "outputs": [],
   "source": [
    "%matplotlib inline\n",
    "\n",
    "import numpy as np\n",
    "import pandas as pd\n",
    "import matplotlib.pyplot as plt\n",
    "import uproot\n",
    "import tqdm\n",
    "import seaborn as sns"
   ]
  },
  {
   "cell_type": "markdown",
   "metadata": {},
   "source": [
    "Processing only 30% of the data "
   ]
  },
  {
   "cell_type": "code",
   "execution_count": null,
   "metadata": {},
   "outputs": [],
   "source": [
    "df_list=[]\n",
    "for filenumber in tqdm.tqdm(range(1,37)):\n",
    "# Open the .root file\n",
    "    filePath=f'D:/Physics/Project/SEM 4 PROJECT/36_files/JetNtuple_RunIISummer16_13TeV_MC_{filenumber}.root'\n",
    "    file = uproot.open(filePath)\n",
    "# Access the tree structu\n",
    "    tree = file['AK4jets/jetTree']\n",
    "# Define the columns you want to read\n",
    "    columns = ['isPhysG', 'isPhysUDS','QG_mult','QG_ptD','QG_axis2','jetPt','jetEta','jetQGl','jetMass','jetGirth','jetArea','jetChargedHadronMult','jetNeutralHadronMult']\n",
    "    df=tree.arrays(columns, library='pd')\n",
    "    df_list.append(df)\n",
    "\n"
   ]
  },
  {
   "cell_type": "code",
   "execution_count": null,
   "metadata": {},
   "outputs": [],
   "source": [
    "df=pd.concat(df_list,ignore_index='true')"
   ]
  },
  {
   "cell_type": "code",
   "execution_count": null,
   "metadata": {},
   "outputs": [],
   "source": [
    "# First remove all the other types of jets from the data except the gluon and the light quark (UDS) jets\n",
    "df = df[(df.isPhysG==1) | (df.isPhysUDS==1)].reset_index()\n",
    "# We keep only jets that either stem from QCD or UDS."
   ]
  },
  {
   "cell_type": "markdown",
   "metadata": {},
   "source": [
    "Data in the range $0<|\\eta|<2.5$ and $30$ GeV $ < p_T < 600 $ GeV. \n",
    "We select jets with jetPt with values between 30 GeV to 600 GeV to stay out of the boosted jet regime."
   ]
  },
  {
   "cell_type": "code",
   "execution_count": null,
   "metadata": {},
   "outputs": [],
   "source": [
    "#selecting only a range of pt \n",
    "df_pt_ranged=df[(df.jetPt>30) & (df.jetPt<600)]\n"
   ]
  },
  {
   "cell_type": "code",
   "execution_count": null,
   "metadata": {},
   "outputs": [],
   "source": [
    "df_selected=df_pt_ranged"
   ]
  },
  {
   "cell_type": "markdown",
   "metadata": {},
   "source": [
    "### Splitting the dataset into test and train subsets "
   ]
  },
  {
   "cell_type": "code",
   "execution_count": null,
   "metadata": {},
   "outputs": [],
   "source": [
    "from sklearn.model_selection import train_test_split\n",
    "\n",
    "train, test = train_test_split(df_selected, test_size=0.2, random_state=42)\n",
    "\n",
    "train_y = train.isPhysUDS\n",
    "test_y = test.isPhysUDS"
   ]
  },
  {
   "cell_type": "code",
   "execution_count": null,
   "metadata": {},
   "outputs": [],
   "source": [
    "# training and test variables for each training variable\n",
    "input_features = ['QG_mult','QG_ptD','QG_axis2','jetPt','jetGirth','jetChargedHadronMult']\n",
    "\n",
    "for input in input_features:\n",
    "    train_x = train[[input]]\n",
    "    test_x = test[[input]]\n",
    " # Normalize the features\n",
    "    train_x_mean = train_x.mean()\n",
    "    train_x_std = train_x.std()\n",
    "    exec(f'train_x_{input}= (train_x - train_x_mean) / train_x_std')\n",
    "    exec(f'test_x_{input} = (test_x - train_x_mean) / train_x_std')\n",
    "\n",
    "train_x=train[input_features]\n",
    "test_x=test[input_features]"
   ]
  },
  {
   "cell_type": "markdown",
   "metadata": {},
   "source": [
    "Using a sequential model from the tensorflow library.\n"
   ]
  },
  {
   "cell_type": "code",
   "execution_count": null,
   "metadata": {},
   "outputs": [],
   "source": [
    "\n",
    "import tensorflow as tf\n",
    "from keras.models import Model, Sequential\n",
    "from keras.layers import Input, Dense, Dropout\n",
    "from sklearn.utils import class_weight\n",
    "from keras.callbacks import EarlyStopping\n"
   ]
  },
  {
   "cell_type": "markdown",
   "metadata": {},
   "source": [
    "Training independant models on each of the input features and one with all the input variables.\n"
   ]
  },
  {
   "cell_type": "code",
   "execution_count": null,
   "metadata": {},
   "outputs": [],
   "source": [
    "\n",
    "# Define the DNN architecture\n",
    "model_ptD = Sequential()\n",
    "model_ptD.add(Dense(100, kernel_initializer='normal', activation='relu', input_dim=train_x_QG_ptD.shape[1]))\n",
    "model_ptD.add(Dropout(0.2))\n",
    "model_ptD.add(Dense(100, kernel_initializer='normal', activation='relu'))\n",
    "model_ptD.add(Dropout(0.2))\n",
    "model_ptD.add(Dense(50, kernel_initializer='normal', activation='relu'))\n",
    "model_ptD.add(Dense(1, kernel_initializer='normal', activation='sigmoid'))\n",
    "model_ptD.compile(optimizer='Nadam', loss='binary_crossentropy', metrics=['accuracy'])\n",
    "\n",
    "# Weight the training samples so that there is equal weight on gluon and quark jets\n",
    "# even if there are different amount of them in the training set\n",
    "class_weights = class_weight.compute_class_weight('balanced', classes=np.unique(train_y), y=train_y[:])\n",
    "print(class_weights)\n",
    "\n",
    "callback=EarlyStopping(monitor='val_loss',min_delta=0.00001,patience=10,verbose=1,mode='auto',baseline=None,restore_best_weights=False)\n",
    "\n",
    "# Train the model\n",
    "model_ptD.fit(train_x_QG_ptD,\n",
    "        train_y,\n",
    "        epochs=200,\n",
    "        batch_size=128,\n",
    "        class_weight={0:class_weights[0] , 1: class_weights[1]},\n",
    "        validation_split=0.2,\n",
    "        shuffle=True,\n",
    "       verbose=1,callbacks=callback);"
   ]
  },
  {
   "cell_type": "code",
   "execution_count": null,
   "metadata": {},
   "outputs": [],
   "source": [
    "model_ptD.save('models/model_ptD.h5')\n",
    "model_ptD.save_weights('models/model_ptD_weights.h5')"
   ]
  },
  {
   "cell_type": "code",
   "execution_count": null,
   "metadata": {},
   "outputs": [],
   "source": [
    "\n",
    "# Define the DNN architecture\n",
    "model_axis2 = Sequential()\n",
    "model_axis2.add(Dense(100, kernel_initializer='normal', activation='relu', input_dim=train_x_QG_axis2.shape[1]))\n",
    "model_axis2.add(Dropout(0.2))\n",
    "model_axis2.add(Dense(100, kernel_initializer='normal', activation='relu'))\n",
    "model_axis2.add(Dropout(0.2))\n",
    "model_axis2.add(Dense(50, kernel_initializer='normal', activation='relu'))\n",
    "model_axis2.add(Dense(1, kernel_initializer='normal', activation='sigmoid'))\n",
    "model_axis2.compile(optimizer='Nadam', loss='binary_crossentropy', metrics=['accuracy'])\n",
    "\n",
    "# Weight the training samples so that there is equal weight on gluon and quark jets\n",
    "# even if there are different amount of them in the training set\n",
    "class_weights = class_weight.compute_class_weight('balanced', classes=np.unique(train_y), y=train_y[:])\n",
    "print(class_weights)\n",
    "\n",
    "callback=EarlyStopping(monitor='val_loss',min_delta=0.00001,patience=8,verbose=1,mode='auto',baseline=None,restore_best_weights=False)\n",
    "\n",
    "# Train the model\n",
    "model_axis2.fit(train_x_QG_axis2,\n",
    "        train_y,\n",
    "        epochs=200,\n",
    "        batch_size=128,\n",
    "        class_weight={0:class_weights[0] , 1: class_weights[1]},\n",
    "        validation_split=0.2,\n",
    "        shuffle=True,\n",
    "       verbose=1,callbacks=callback)"
   ]
  },
  {
   "cell_type": "code",
   "execution_count": null,
   "metadata": {},
   "outputs": [],
   "source": [
    "model_axis2.save('models/model_axis2.h5')\n",
    "model_axis2.save_weights('models/model_axis2_weights.h5')"
   ]
  },
  {
   "cell_type": "code",
   "execution_count": null,
   "metadata": {},
   "outputs": [],
   "source": [
    "\n",
    "# Define the DNN architecture\n",
    "model_mult = Sequential()\n",
    "model_mult.add(Dense(100, kernel_initializer='normal', activation='relu', input_dim=train_x_QG_mult.shape[1]))\n",
    "model_mult.add(Dropout(0.2))\n",
    "model_mult.add(Dense(100, kernel_initializer='normal', activation='relu'))\n",
    "model_mult.add(Dropout(0.2))\n",
    "model_mult.add(Dense(50, kernel_initializer='normal', activation='relu'))\n",
    "model_mult.add(Dense(1, kernel_initializer='normal', activation='sigmoid'))\n",
    "model_mult.compile(optimizer='Nadam', loss='binary_crossentropy', metrics=['accuracy'])\n",
    "\n",
    "# Weight the training samples so that there is equal weight on gluon and quark jets\n",
    "# even if there are different amount of them in the training set\n",
    "class_weights = class_weight.compute_class_weight('balanced', classes=np.unique(train_y), y=train_y[:])\n",
    "print(class_weights)\n",
    "\n",
    "callback=EarlyStopping(monitor='val_loss',min_delta=0.00001,patience=8,verbose=1,mode='auto',baseline=None,restore_best_weights=False)\n",
    "\n",
    "# Train the model\n",
    "model_mult.fit(train_x_QG_mult,\n",
    "        train_y,\n",
    "        epochs=200,\n",
    "        batch_size=128,\n",
    "        class_weight={0:class_weights[0] , 1: class_weights[1]},\n",
    "        validation_split=0.2,\n",
    "        shuffle=True,\n",
    "       verbose=1,callbacks=callback);"
   ]
  },
  {
   "cell_type": "code",
   "execution_count": null,
   "metadata": {},
   "outputs": [],
   "source": [
    "model_mult.save('models/model_mult.h5')\n",
    "model_mult.save_weights('models/model_mult_weights.h5')"
   ]
  },
  {
   "cell_type": "code",
   "execution_count": null,
   "metadata": {},
   "outputs": [],
   "source": [
    "\n",
    "# Define the DNN architecture\n",
    "model_jetPt = Sequential()\n",
    "model_jetPt.add(Dense(100, kernel_initializer='normal', activation='relu', input_dim=train_x_QG_mult.shape[1]))\n",
    "model_jetPt.add(Dropout(0.2))\n",
    "model_jetPt.add(Dense(100, kernel_initializer='normal', activation='relu'))\n",
    "model_jetPt.add(Dropout(0.2))\n",
    "model_jetPt.add(Dense(50, kernel_initializer='normal', activation='relu'))\n",
    "model_jetPt.add(Dense(1, kernel_initializer='normal', activation='sigmoid'))\n",
    "model_jetPt.compile(optimizer='Nadam', loss='binary_crossentropy', metrics=['accuracy'])\n",
    "\n",
    "# Weight the training samples so that there is equal weight on gluon and quark jets\n",
    "# even if there are different amount of them in the training set\n",
    "class_weights = class_weight.compute_class_weight('balanced', classes=np.unique(train_y), y=train_y[:])\n",
    "print(class_weights)\n",
    "\n",
    "callback=EarlyStopping(monitor='val_loss',min_delta=0.00001,patience=8,verbose=1,mode='auto',baseline=None,restore_best_weights=False)\n",
    "\n",
    "# Train the model\n",
    "model_jetPt.fit(train_x_jetPt,\n",
    "        train_y,\n",
    "        epochs=200,\n",
    "        batch_size=128,\n",
    "        class_weight={0:class_weights[0] , 1: class_weights[1]},\n",
    "        validation_split=0.2,\n",
    "        shuffle=True,\n",
    "       verbose=1,callbacks=callback);"
   ]
  },
  {
   "cell_type": "code",
   "execution_count": null,
   "metadata": {},
   "outputs": [],
   "source": [
    "model_jetPt.save('models/model_jetPt.h5')\n",
    "model_jetPt.save_weights('models/model_mult_weights.h5')"
   ]
  },
  {
   "cell_type": "code",
   "execution_count": null,
   "metadata": {},
   "outputs": [],
   "source": [
    "# Define the DNN architecture\n",
    "model_jetGirth = Sequential()\n",
    "model_jetGirth.add(Dense(100, kernel_initializer='normal', activation='relu', input_dim=train_x_QG_mult.shape[1]))\n",
    "model_jetGirth.add(Dropout(0.2))\n",
    "model_jetGirth.add(Dense(100, kernel_initializer='normal', activation='relu'))\n",
    "model_jetGirth.add(Dropout(0.2))\n",
    "model_jetGirth.add(Dense(50, kernel_initializer='normal', activation='relu'))\n",
    "model_jetGirth.add(Dense(1, kernel_initializer='normal', activation='sigmoid'))\n",
    "model_jetGirth.compile(optimizer='Nadam', loss='binary_crossentropy', metrics=['accuracy'])\n",
    "\n",
    "# Weight the training samples so that there is equal weight on gluon and quark jets\n",
    "# even if there are different amount of them in the training set\n",
    "class_weights = class_weight.compute_class_weight('balanced', classes=np.unique(train_y), y=train_y[:])\n",
    "print(class_weights)\n",
    "\n",
    "callback=EarlyStopping(monitor='val_loss',min_delta=0.00001,patience=8,verbose=1,mode='auto',baseline=None,restore_best_weights=False)\n",
    "\n",
    "# Train the model\n",
    "model_jetGirth.fit(train_x_jetGirth,\n",
    "        train_y,\n",
    "        epochs=200,\n",
    "        batch_size=128,\n",
    "        class_weight={0:class_weights[0] , 1: class_weights[1]},\n",
    "        validation_split=0.2,\n",
    "        shuffle=True,\n",
    "       verbose=1,callbacks=callback);\n"
   ]
  },
  {
   "cell_type": "code",
   "execution_count": null,
   "metadata": {},
   "outputs": [],
   "source": [
    "model_jetGirth.save('models/model_jetGirth.h5')\n",
    "model_jetGirth.save_weights('models/model_mult_weights.h5')"
   ]
  },
  {
   "cell_type": "code",
   "execution_count": null,
   "metadata": {},
   "outputs": [],
   "source": [
    "# Define the DNN architecture\n",
    "model_jetChargedHadronMult = Sequential()\n",
    "model_jetChargedHadronMult.add(Dense(100, kernel_initializer='normal', activation='relu', input_dim=train_x_QG_mult.shape[1]))\n",
    "model_jetChargedHadronMult.add(Dropout(0.2))\n",
    "model_jetChargedHadronMult.add(Dense(100, kernel_initializer='normal', activation='relu'))\n",
    "model_jetChargedHadronMult.add(Dropout(0.2))\n",
    "model_jetChargedHadronMult.add(Dense(50, kernel_initializer='normal', activation='relu'))\n",
    "model_jetChargedHadronMult.add(Dense(1, kernel_initializer='normal', activation='sigmoid'))\n",
    "model_jetChargedHadronMult.compile(optimizer='Nadam', loss='binary_crossentropy', metrics=['accuracy'])\n",
    "\n",
    "# Weight the training samples so that there is equal weight on gluon and quark jets\n",
    "# even if there are different amount of them in the training set\n",
    "class_weights = class_weight.compute_class_weight('balanced', classes=np.unique(train_y), y=train_y[:])\n",
    "print(class_weights)\n",
    "\n",
    "callback=EarlyStopping(monitor='val_loss',min_delta=0.00001,patience=8,verbose=1,mode='auto',baseline=None,restore_best_weights=False)\n",
    "\n",
    "# Train the model\n",
    "model_jetChargedHadronMult.fit(train_x_jetChargedHadronMult,\n",
    "        train_y,\n",
    "        epochs=200,\n",
    "        batch_size=128,\n",
    "        class_weight={0:class_weights[0] , 1: class_weights[1]},\n",
    "        validation_split=0.2,\n",
    "        shuffle=True,\n",
    "       verbose=1,callbacks=callback);\n"
   ]
  },
  {
   "cell_type": "code",
   "execution_count": null,
   "metadata": {},
   "outputs": [],
   "source": [
    "model_jetChargedHadronMult.save('models/model_jetChargedHadronMult.h5')\n",
    "model_jetChargedHadronMult.save_weights('models/model_mult_weights.h5')"
   ]
  },
  {
   "cell_type": "code",
   "execution_count": null,
   "metadata": {},
   "outputs": [],
   "source": [
    "\n",
    "# Define the DNN architecture\n",
    "model = Sequential()\n",
    "model.add(Dense(100, kernel_initializer='normal', activation='relu', input_dim=train_x.shape[1]))\n",
    "model.add(Dropout(0.2))\n",
    "model.add(Dense(100, kernel_initializer='normal', activation='relu'))\n",
    "model.add(Dropout(0.2))\n",
    "model.add(Dense(50, kernel_initializer='normal', activation='relu'))\n",
    "model.add(Dense(1, kernel_initializer='normal', activation='sigmoid'))\n",
    "model.compile(optimizer='Nadam', loss='binary_crossentropy', metrics=['accuracy'])\n",
    "\n",
    "# Weight the training samples so that there is equal weight on gluon and quark jets\n",
    "# even if there are different amount of them in the training set\n",
    "class_weights = class_weight.compute_class_weight('balanced', classes=np.unique(train_y), y=train_y[:])\n",
    "print(class_weights)\n",
    "\n",
    "callback=EarlyStopping(monitor='val_loss',min_delta=0.00001,patience=8,verbose=1,mode='auto',baseline=None,restore_best_weights=False)\n",
    "\n",
    "# Train the model\n",
    "model.fit(train_x,\n",
    "        train_y,\n",
    "        epochs=200,\n",
    "        batch_size=128,\n",
    "        class_weight={0:class_weights[0] , 1: class_weights[1]},\n",
    "        validation_split=0.2,\n",
    "        shuffle=True,\n",
    "       verbose=1,callbacks=callback);"
   ]
  },
  {
   "cell_type": "code",
   "execution_count": null,
   "metadata": {},
   "outputs": [],
   "source": [
    "model.save('models/model.h5')\n",
    "model.save_weights('models/model_weights.h5')"
   ]
  },
  {
   "cell_type": "markdown",
   "metadata": {},
   "source": [
    "Let's see how the trained model performs by first creating predictions for the test set and plotting the classifier output."
   ]
  },
  {
   "cell_type": "code",
   "execution_count": null,
   "metadata": {},
   "outputs": [],
   "source": [
    "pred_ptD = model_ptD.predict(test_x_QG_ptD)\n",
    "pred_axis2=model_axis2.predict(test_x_QG_axis2)\n",
    "pred_mult=model_mult.predict(test_x_QG_mult)\n",
    "pred_jetPt=model_jetPt.predict(test_x_jetPt)\n",
    "pred_jetGirth=model_jetGirth.predict(test_x_jetGirth)\n",
    "pred_jetChargedHadronMult=model_jetChargedHadronMult.predict(test_x_jetChargedHadronMult)\n",
    "pred_y=model.predict(test_x)\n"
   ]
  },
  {
   "cell_type": "code",
   "execution_count": null,
   "metadata": {},
   "outputs": [],
   "source": [
    "plt.clf()\n",
    "binnings = np.arange(0.0, 1.0, 0.04)\n",
    "plt.hist( pred_y[test_y==0], bins=binnings, alpha=0.8, label=\"Gluons\", density=1 )\n",
    "plt.hist( pred_y[test_y==1], bins=binnings, alpha=0.8, label=\"Quarks\", density=1 )\n",
    "plt.xlim(0,1)\n",
    "plt.legend()\n",
    "plt.xlabel('DNN output value')\n",
    "plt.title('Simple DNN classifier');"
   ]
  },
  {
   "cell_type": "markdown",
   "metadata": {},
   "source": [
    "Calculating the Area under the curve (AUC) of the Receiver Operating Curve (ROC) to find the efficiency of our network."
   ]
  },
  {
   "cell_type": "code",
   "execution_count": null,
   "metadata": {},
   "outputs": [],
   "source": [
    "from sklearn.metrics import roc_auc_score, roc_curve, auc\n",
    "\n",
    "fpr_dnn_ptD, tpr_dnn_ptD, thresholds_dnn_ptD  = roc_curve(test_y, pred_ptD)\n",
    "roc_auc_ptD = auc(fpr_dnn_ptD, tpr_dnn_ptD)\n",
    "\n",
    "fpr_dnn_axis2, tpr_dnn_axis2, thresholds_dnn_axis2  = roc_curve(test_y, pred_axis2)\n",
    "roc_auc_axis2 = auc(fpr_dnn_axis2, tpr_dnn_axis2)\n",
    "\n",
    "fpr_dnn_mult, tpr_dnn_mult, thresholds_dnn_mult  = roc_curve(test_y, pred_mult)\n",
    "roc_auc_mult = auc(fpr_dnn_mult, tpr_dnn_mult)\n",
    "\n",
    "fpr_dnn_jetpt, tpr_dnn_jetpt, thresholds_dnn_jetpt  = roc_curve(test_y, pred_jetPt)\n",
    "roc_auc_jetpt = auc(fpr_dnn_jetpt, tpr_dnn_jetpt)\n",
    "\n",
    "fpr_dnn_jetgirth, tpr_dnn_jetgirth, thresholds_dnn_jetgirth  = roc_curve(test_y, pred_jetGirth)\n",
    "roc_auc_jetgirth = auc(fpr_dnn_jetgirth, tpr_dnn_jetgirth)\n",
    "\n",
    "\n",
    "fpr_dnn_jetCHmult, tpr_dnn_jetCHmult, thresholds_dnn_jetCHmult  = roc_curve(test_y, pred_jetChargedHadronMult)\n",
    "roc_auc_jetCHmult = auc(fpr_dnn_jetCHmult, tpr_dnn_jetCHmult)\n",
    "\n",
    "fpr_dnn, tpr_dnn, thresholds_dnn  = roc_curve(test_y, pred_y)\n",
    "roc_auc_dnn = auc(fpr_dnn, tpr_dnn)\n",
    "\n"
   ]
  },
  {
   "cell_type": "code",
   "execution_count": null,
   "metadata": {},
   "outputs": [],
   "source": [
    "\n",
    "\n",
    "plt.clf()\n",
    "plt.plot(fpr_dnn_ptD, tpr_dnn_ptD, 'b', label='ptD only, AUC = %0.4f'% roc_auc_ptD)\n",
    "plt.plot(fpr_dnn_axis2, tpr_dnn_axis2,   'r', label='axis2 only, AUC = %0.4f'% roc_auc_axis2)\n",
    "plt.plot(fpr_dnn_mult, tpr_dnn_mult,   'g', label='mult only, AUC = %0.4f'% roc_auc_mult)\n",
    "plt.plot(fpr_dnn_jetgirth, tpr_dnn_jetgirth,   'y', label='jetgirth only, AUC = %0.4f'% roc_auc_jetgirth)\n",
    "plt.plot(fpr_dnn_jetpt, tpr_dnn_jetpt,   'olive',label='jetpt only, AUC = %0.4f'% roc_auc_jetpt)\n",
    "plt.plot(fpr_dnn_jetCHmult, tpr_dnn_jetCHmult,   'navy', label='jetCHmult only, AUC = %0.4f'% roc_auc_jetCHmult)\n",
    "plt.plot(fpr_dnn, tpr_dnn, 'k', label='Simple DNN classifier, AUC = %0.4f'% roc_auc_dnn)\n",
    "plt.plot([0,1], [0,1], 'k--')\n",
    "plt.text(0.05, 0.01, '$0<|\\eta|<2.5 ,$ $30 $ GeV$<p_T<600 $ GeV', fontsize = 10)\n",
    "plt.xlim([0.0, 1.0])\n",
    "plt.ylim([0.0, 1.0])\n",
    "plt.legend(loc = 'lower right',prop={'size': 7})\n",
    "plt.title(\"Receiver operating characteristic\")\n",
    "plt.ylabel('Quark jet acceptance rate')\n",
    "plt.xlabel('Gluon jet acceptance rate')\n"
   ]
  }
 ],
 "metadata": {
  "kernelspec": {
   "display_name": "Python 3",
   "language": "python",
   "name": "python3"
  },
  "language_info": {
   "codemirror_mode": {
    "name": "ipython",
    "version": 3
   },
   "file_extension": ".py",
   "mimetype": "text/x-python",
   "name": "python",
   "nbconvert_exporter": "python",
   "pygments_lexer": "ipython3",
   "version": "3.11.8"
  },
  "widgets": {
   "state": {
    "08a6f31b9a8c4a029404f1aaf223f74a": {
     "views": [
      {
       "cell_index": 9
      }
     ]
    },
    "0d1e8b990608488193406b09b99a5e92": {
     "views": [
      {
       "cell_index": 9
      }
     ]
    },
    "20fb655374694404809ec4d213f8e7d6": {
     "views": [
      {
       "cell_index": 9
      }
     ]
    },
    "2212de19566f4041b5ebe53a9fda84ec": {
     "views": [
      {
       "cell_index": 14
      }
     ]
    },
    "599e0a034ef64d9fae2ae6ab96977ad4": {
     "views": [
      {
       "cell_index": 9
      }
     ]
    },
    "5b0ff9987cb348ef8643374a849056ba": {
     "views": [
      {
       "cell_index": 14
      }
     ]
    },
    "5efe7190f5b04d739ff952cf2568d5b9": {
     "views": [
      {
       "cell_index": 9
      }
     ]
    },
    "6a1a2dcc5c104c1691cb6db155d0ff2d": {
     "views": [
      {
       "cell_index": 9
      }
     ]
    },
    "a66855a84a6647e4973583b782e299eb": {
     "views": [
      {
       "cell_index": 14
      }
     ]
    },
    "aaacce64a9ab457faaf6c877d9e4d016": {
     "views": [
      {
       "cell_index": 9
      }
     ]
    },
    "b4fe8611ac364e2195a4192ff95554db": {
     "views": [
      {
       "cell_index": 14
      }
     ]
    },
    "b89afc9a81fb41f7a6210b8f41d225c5": {
     "views": [
      {
       "cell_index": 14
      }
     ]
    },
    "c0504b8d91a344d69adc3c8ad57409d4": {
     "views": [
      {
       "cell_index": 9
      }
     ]
    },
    "d1b34b9722fd48dea752c72d5090baef": {
     "views": [
      {
       "cell_index": 9
      }
     ]
    },
    "deeef71954134001853319ac11d27f96": {
     "views": [
      {
       "cell_index": 14
      }
     ]
    },
    "fcdd1c99847343b89ac7e9ede4887567": {
     "views": [
      {
       "cell_index": 14
      }
     ]
    },
    "fd877073ebbe4aaba1567d9b6631d03b": {
     "views": [
      {
       "cell_index": 9
      }
     ]
    },
    "ff6d2301d4354a61bca3e452e0b7b871": {
     "views": [
      {
       "cell_index": 9
      }
     ]
    }
   },
   "version": "1.2.0"
  }
 },
 "nbformat": 4,
 "nbformat_minor": 2
}
